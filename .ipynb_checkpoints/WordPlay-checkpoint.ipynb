{
 "cells": [
  {
   "cell_type": "code",
   "execution_count": null,
   "metadata": {},
   "outputs": [],
   "source": [
    "from tkinter import *\n",
    "from tkinter.ttk import *\n",
    "\n",
    "root = Tk()\n",
    "root.wm_attributes('-transparentcolor', 'grey')\n",
    "root.resizable(width=False, height=False)\n",
    "root.geometry(\"450x750\")\n",
    "bg = PhotoImage(file = \"background.gif\")\n",
    "label1 = Label( root, image = bg)\n",
    "label1.place(x = 0, y = 0)\n",
    "a = Label(root, text =\"Welcome to Word Play !\",font=(\"Arial\", 25),background='white')\n",
    "a.config(anchor=CENTER)\n",
    "a.pack(fill=BOTH, expand=1)\n",
    "b = Label(root, text =\"Games can contribute to students' skills if they are incorporated into the classroom, particularly if they are used to reinforce or introduce a grammatical rule or structure.\",wraplength=400)\n",
    "b.config(anchor=CENTER)\n",
    "b.pack()\n",
    "d = Label(root, text =\"Choose your battlefield ...\")\n",
    "d.pack()\n",
    " \n",
    "photo1 = PhotoImage(file = r\"b1.png\")\n",
    "b1 = Button(root,text = \"Pick a meaning\", image = photo1).pack(side = TOP,pady = 10)\n",
    "\n",
    "photo2 = PhotoImage(file = r\"b2.png\")\n",
    "b2 = Button( text = \"POS Classification\", image = photo2).pack(side = TOP,pady = 10)\n",
    " \n",
    "photo3 = PhotoImage(file = r\"b3.png\")\n",
    "b3 = Button( text = \"Sync with Synonym\", image = photo3).pack(side = TOP,pady = 10)\n",
    " \n",
    "photo4 = PhotoImage(file = r\"b4.png\")\n",
    "b4 = Button( text = \"Turn it -Antonym\", image = photo4).pack(side = TOP,pady = 10)\n",
    "\n",
    "photo5 = PhotoImage(file = r\"b5.png\")\n",
    "b5 = Button( text = \"Breaking the gaps with POS tags\", image = photo5).pack(side = TOP,pady = 10)\n",
    "\n",
    "photo6 = PhotoImage(file = r\"b6.png\")\n",
    "b6 = Button( text = \"Under the roof -Hyponyms\", image = photo6).pack(side = TOP,pady = 10)\n",
    " \n",
    "\n",
    "root.mainloop()"
   ]
  },
  {
   "cell_type": "code",
   "execution_count": null,
   "metadata": {},
   "outputs": [],
   "source": []
  }
 ],
 "metadata": {
  "kernelspec": {
   "display_name": "Python 3",
   "language": "python",
   "name": "python3"
  },
  "language_info": {
   "codemirror_mode": {
    "name": "ipython",
    "version": 3
   },
   "file_extension": ".py",
   "mimetype": "text/x-python",
   "name": "python",
   "nbconvert_exporter": "python",
   "pygments_lexer": "ipython3",
   "version": "3.8.5"
  }
 },
 "nbformat": 4,
 "nbformat_minor": 4
}
